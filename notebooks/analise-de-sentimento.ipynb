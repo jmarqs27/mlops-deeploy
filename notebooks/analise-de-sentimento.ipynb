{
 "cells": [
  {
   "cell_type": "code",
   "execution_count": 2,
   "metadata": {},
   "outputs": [
    {
     "name": "stdout",
     "output_type": "stream",
     "text": [
      "Collecting textblob\n",
      "  Downloading textblob-0.17.1-py2.py3-none-any.whl (636 kB)\n",
      "     ---------------------------------------- 0.0/636.8 kB ? eta -:--:--\n",
      "      --------------------------------------- 10.2/636.8 kB ? eta -:--:--\n",
      "      --------------------------------------- 10.2/636.8 kB ? eta -:--:--\n",
      "     - ----------------------------------- 30.7/636.8 kB 262.6 kB/s eta 0:00:03\n",
      "     -- ---------------------------------- 41.0/636.8 kB 219.4 kB/s eta 0:00:03\n",
      "     --- --------------------------------- 61.4/636.8 kB 297.7 kB/s eta 0:00:02\n",
      "     ----- ------------------------------- 92.2/636.8 kB 350.1 kB/s eta 0:00:02\n",
      "     --------- -------------------------- 163.8/636.8 kB 546.6 kB/s eta 0:00:01\n",
      "     -------------- --------------------- 256.0/636.8 kB 749.3 kB/s eta 0:00:01\n",
      "     -------------------- --------------- 358.4/636.8 kB 928.4 kB/s eta 0:00:01\n",
      "     -------------------------- ----------- 440.3/636.8 kB 1.0 MB/s eta 0:00:01\n",
      "     ------------------------------- ------ 522.2/636.8 kB 1.1 MB/s eta 0:00:01\n",
      "     -------------------------------------  634.9/636.8 kB 1.2 MB/s eta 0:00:01\n",
      "     -------------------------------------- 636.8/636.8 kB 1.2 MB/s eta 0:00:00\n",
      "Requirement already satisfied: nltk>=3.1 in c:\\users\\jmarques\\appdata\\local\\anaconda3\\lib\\site-packages (from textblob) (3.8.1)\n",
      "Requirement already satisfied: click in c:\\users\\jmarques\\appdata\\local\\anaconda3\\lib\\site-packages (from nltk>=3.1->textblob) (8.0.4)\n",
      "Requirement already satisfied: joblib in c:\\users\\jmarques\\appdata\\local\\anaconda3\\lib\\site-packages (from nltk>=3.1->textblob) (1.2.0)\n",
      "Requirement already satisfied: regex>=2021.8.3 in c:\\users\\jmarques\\appdata\\local\\anaconda3\\lib\\site-packages (from nltk>=3.1->textblob) (2022.7.9)\n",
      "Requirement already satisfied: tqdm in c:\\users\\jmarques\\appdata\\local\\anaconda3\\lib\\site-packages (from nltk>=3.1->textblob) (4.65.0)\n",
      "Requirement already satisfied: colorama in c:\\users\\jmarques\\appdata\\local\\anaconda3\\lib\\site-packages (from click->nltk>=3.1->textblob) (0.4.6)\n",
      "Installing collected packages: textblob\n",
      "Successfully installed textblob-0.17.1\n"
     ]
    }
   ],
   "source": [
    "!pip install textblob"
   ]
  },
  {
   "cell_type": "code",
   "execution_count": 3,
   "metadata": {},
   "outputs": [],
   "source": [
    "from textblob import TextBlob"
   ]
  },
  {
   "cell_type": "code",
   "execution_count": 8,
   "metadata": {},
   "outputs": [],
   "source": [
    "frase = 'Python e Machine Learning é muito top!!'\n",
    "tb = TextBlob(frase)\n",
    "tb_en = tb.translate(from_lang='pt', to='en')"
   ]
  },
  {
   "cell_type": "code",
   "execution_count": 7,
   "metadata": {},
   "outputs": [
    {
     "data": {
      "text/plain": [
       "1.0"
      ]
     },
     "execution_count": 7,
     "metadata": {},
     "output_type": "execute_result"
    }
   ],
   "source": [
    "tb_en.sentiment.polarity"
   ]
  },
  {
   "cell_type": "code",
   "execution_count": null,
   "metadata": {},
   "outputs": [],
   "source": []
  },
  {
   "cell_type": "code",
   "execution_count": null,
   "metadata": {},
   "outputs": [],
   "source": []
  }
 ],
 "metadata": {
  "kernelspec": {
   "display_name": "base",
   "language": "python",
   "name": "python3"
  },
  "language_info": {
   "codemirror_mode": {
    "name": "ipython",
    "version": 3
   },
   "file_extension": ".py",
   "mimetype": "text/x-python",
   "name": "python",
   "nbconvert_exporter": "python",
   "pygments_lexer": "ipython3",
   "version": "3.11.5"
  }
 },
 "nbformat": 4,
 "nbformat_minor": 2
}
